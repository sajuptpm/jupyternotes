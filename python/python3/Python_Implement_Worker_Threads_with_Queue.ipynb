{
 "cells": [
  {
   "cell_type": "markdown",
   "metadata": {},
   "source": [
    "### Python Implement Worker Threads with Queue\n",
    "#https://docs.python.org/3/library/queue.html#queue-objects"
   ]
  },
  {
   "cell_type": "code",
   "execution_count": 2,
   "metadata": {
    "collapsed": true
   },
   "outputs": [],
   "source": [
    "import time\n",
    "import threading\n",
    "from queue import Queue"
   ]
  },
  {
   "cell_type": "code",
   "execution_count": 3,
   "metadata": {
    "collapsed": true
   },
   "outputs": [],
   "source": [
    "#Global Queue\n",
    "q = Queue()"
   ]
  },
  {
   "cell_type": "code",
   "execution_count": 4,
   "metadata": {
    "collapsed": true
   },
   "outputs": [],
   "source": [
    "num_worker_threads = 2"
   ]
  },
  {
   "cell_type": "code",
   "execution_count": 5,
   "metadata": {
    "collapsed": true
   },
   "outputs": [],
   "source": [
    "#Worker to get item/message from the queue and process it.\n",
    "def worker():\n",
    "    while True:\n",
    "        print(\"Waiting for Message .....{thread}\\n\".format(thread=threading.get_ident()))\n",
    "        item = q.get()\n",
    "        print(\"Message Received .....{thread}--{msg}\\n\".format(msg=item, thread=threading.get_ident()))\n",
    "        if item is None:\n",
    "            q.task_done()\n",
    "            break\n",
    "        do_work(item)\n",
    "        q.task_done()"
   ]
  },
  {
   "cell_type": "code",
   "execution_count": 6,
   "metadata": {
    "collapsed": true
   },
   "outputs": [],
   "source": [
    "#Function to process message\n",
    "def do_work(item):\n",
    "    print(\"Processing Message .....{thread}--{msg}\\n\".format(msg=item, thread=threading.get_ident()))\n",
    "    time.sleep(2)\n",
    "    print(\"Message Processed.....{thread}--{msg}\\n\".format(msg=item, thread=threading.get_ident()))"
   ]
  },
  {
   "cell_type": "code",
   "execution_count": 7,
   "metadata": {},
   "outputs": [
    {
     "name": "stdout",
     "output_type": "stream",
     "text": [
      "Waiting for Message .....140584371070720\n",
      "\n",
      "Waiting for Message .....140584362678016\n",
      "\n"
     ]
    }
   ],
   "source": [
    "#Start Worker Threads\n",
    "threads = []\n",
    "for i in range(num_worker_threads):\n",
    "    t = threading.Thread(target=worker)\n",
    "    t.start()\n",
    "    threads.append(t)"
   ]
  },
  {
   "cell_type": "code",
   "execution_count": 10,
   "metadata": {},
   "outputs": [
    {
     "name": "stdout",
     "output_type": "stream",
     "text": [
      "Message Received .....140584362678016--AA\n",
      "\n",
      "Processing Message .....140584362678016--AA\n",
      "\n",
      "Message Received .....140584371070720--BB\n",
      "\n",
      "Processing Message .....140584371070720--BB\n",
      "\n",
      "Message Processed.....140584362678016--AA\n",
      "Message Processed.....140584371070720--BB\n",
      "\n",
      "\n",
      "Waiting for Message .....140584371070720\n",
      "Waiting for Message .....140584362678016\n",
      "\n",
      "\n",
      "Message Received .....140584362678016--CC\n",
      "\n",
      "Processing Message .....140584362678016--CC\n",
      "\n",
      "Message Processed.....140584362678016--CC\n",
      "\n",
      "Waiting for Message .....140584362678016\n",
      "\n"
     ]
    }
   ],
   "source": [
    "#Add items to the Queue\n",
    "for item in [\"AA\", \"BB\", \"CC\"]:\n",
    "    q.put(item)"
   ]
  },
  {
   "cell_type": "code",
   "execution_count": 12,
   "metadata": {},
   "outputs": [
    {
     "name": "stdout",
     "output_type": "stream",
     "text": [
      "Message Received .....140584371070720--None\n",
      "\n",
      "Message Received .....140584362678016--None\n",
      "\n"
     ]
    }
   ],
   "source": [
    "#Stop All Workers\n",
    "for i in range(num_worker_threads):\n",
    "    q.put(None)"
   ]
  },
  {
   "cell_type": "code",
   "execution_count": 13,
   "metadata": {},
   "outputs": [
    {
     "data": {
      "text/plain": [
       "[<_MainThread(MainThread, started 140584631637760)>,\n",
       " <Thread(Thread-2, started daemon 140584495970048)>,\n",
       " <Heartbeat(Thread-3, started daemon 140584413034240)>,\n",
       " <ParentPollerUnix(Thread-1, started daemon 140584379463424)>,\n",
       " <HistorySavingThread(IPythonHistorySavingThread, started 140584387856128)>]"
      ]
     },
     "execution_count": 13,
     "metadata": {},
     "output_type": "execute_result"
    }
   ],
   "source": [
    "#Print All running Threads\n",
    "threading.enumerate()"
   ]
  }
 ],
 "metadata": {
  "kernelspec": {
   "display_name": "Python 3",
   "language": "python",
   "name": "python3"
  },
  "language_info": {
   "codemirror_mode": {
    "name": "ipython",
    "version": 3
   },
   "file_extension": ".py",
   "mimetype": "text/x-python",
   "name": "python",
   "nbconvert_exporter": "python",
   "pygments_lexer": "ipython3",
   "version": "3.5.2"
  }
 },
 "nbformat": 4,
 "nbformat_minor": 2
}
