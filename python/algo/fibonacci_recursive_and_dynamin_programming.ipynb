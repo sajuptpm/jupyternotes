{
 "cells": [
  {
   "cell_type": "markdown",
   "metadata": {},
   "source": [
    "### 1) Fibonacci Sequence With Temp Variable"
   ]
  },
  {
   "cell_type": "code",
   "execution_count": 1,
   "metadata": {
    "collapsed": true
   },
   "outputs": [],
   "source": [
    "def fib_with_temp_var(n):\n",
    "    first = 0\n",
    "    second = 1\n",
    "    if n == 0:\n",
    "        print(0)\n",
    "    if n >= 1:\n",
    "        print(0)\n",
    "        print(1)\n",
    "    for x in range(1, n):\n",
    "        temp = first + second\n",
    "        first = second\n",
    "        second = temp\n",
    "        print(second)\n"
   ]
  },
  {
   "cell_type": "code",
   "execution_count": 3,
   "metadata": {},
   "outputs": [
    {
     "name": "stdout",
     "output_type": "stream",
     "text": [
      "0\n",
      "1\n",
      "1\n",
      "2\n",
      "3\n",
      "5\n",
      "8\n",
      "13\n",
      "21\n",
      "34\n",
      "55\n"
     ]
    }
   ],
   "source": [
    "fib_with_temp_var(10)"
   ]
  },
  {
   "cell_type": "markdown",
   "metadata": {},
   "source": [
    "### 2) Fibonacci Sequence Without Temp Variable"
   ]
  },
  {
   "cell_type": "code",
   "execution_count": null,
   "metadata": {
    "collapsed": true
   },
   "outputs": [],
   "source": [
    "def fib_without_temp_var(n):\n",
    "    first = 0\n",
    "    second = 1\n",
    "    if n == 0:\n",
    "        print(0)\n",
    "    if n >= 1:\n",
    "        print(0)\n",
    "        print(1)\n",
    "    for _ in range(1, n):\n",
    "        #Right-hand side is evaluated first and create tuple then unpack that tuple to left side.\n",
    "        #second, first = first+second, second\n",
    "        #OR\n",
    "        first, second = second, first+second\n",
    "        print(second)"
   ]
  },
  {
   "cell_type": "code",
   "execution_count": null,
   "metadata": {},
   "outputs": [],
   "source": [
    "fib_without_temp_var(10)"
   ]
  },
  {
   "cell_type": "markdown",
   "metadata": {},
   "source": [
    "### 3) Fibonacci Sequence Recursive : Top-Down approach"
   ]
  },
  {
   "cell_type": "markdown",
   "metadata": {},
   "source": [
    "0 1 1 2 3 5 8 13 21\n",
    "\n",
    "--------\n",
    "\n",
    "F(n) = F(n-1) + F(n-2)\n",
    "\n",
    "--------\n",
    "\n",
    "Base cases:\n",
    "\n",
    "if n == 1: return 1\n",
    "\n",
    "if n == 0: return 0\n",
    "\n",
    "--------\n",
    "\n",
    "Time complexity O(2^n)"
   ]
  },
  {
   "cell_type": "markdown",
   "metadata": {},
   "source": [
    "#### This is Top-Down approach. Here algorithm start from Top value and go to Bottom each step to get our Top value."
   ]
  },
  {
   "cell_type": "markdown",
   "metadata": {},
   "source": [
    "If we closely look into the algorithm, in-order to generate fifth number it requires 3rd and 4th numbers. So my recursion actually start from top(5) and then goes all the way to bottom/lower numbers. This approach is actually top-down approach. "
   ]
  },
  {
   "cell_type": "code",
   "execution_count": null,
   "metadata": {
    "collapsed": true
   },
   "outputs": [],
   "source": [
    "def fibonacci_recursive(n):\n",
    "    if n == 0:\n",
    "        return 0\n",
    "    if n == 1:\n",
    "        return 1\n",
    "\n",
    "    #print(\"n:\",n, \"-->\",n-1, \"-->\",n-2)\n",
    "    fib = fibonacci_recursive(n-1) + fibonacci_recursive(n-2)\n",
    "    #print(\"Return Fib of\", n, \"is:\", fib)\n",
    "    return fib"
   ]
  },
  {
   "cell_type": "code",
   "execution_count": null,
   "metadata": {},
   "outputs": [],
   "source": [
    "#Uncomment the print statements and run it to see the performance\n",
    "fibonacci_recursive(50)\n",
    "#fibonacci_recursive(50)"
   ]
  },
  {
   "cell_type": "markdown",
   "metadata": {},
   "source": [
    "### 4) Fibonacci Sequence Recursive with Memoization : Top-Down approach"
   ]
  },
  {
   "cell_type": "markdown",
   "metadata": {},
   "source": [
    "#### This is Top-Down approach. Here algorithm start from Top value and go to Bottom each step to get our Top value."
   ]
  },
  {
   "cell_type": "markdown",
   "metadata": {},
   "source": [
    "To avoid doing same calculation multiple times we use Dynamic Programming techniques. We store previously computed value and reuse it. This technique is called **memoization**. There are more to Dynamic programming other then memoization which is not needed to discuss current problem.\n",
    "https://stackoverflow.com/questions/6164629/dynamic-programming-and-memoization-bottom-up-vs-top-down-approaches"
   ]
  },
  {
   "cell_type": "markdown",
   "metadata": {},
   "source": [
    "1.Memoization is the top-down technique(start solving the given problem by breaking it down) and dynamic programming is a bottom-up technique(start solving from the trivial sub-problem, up towards the given problem)\n",
    "\n",
    "2.DP finds the solution by starting from the base case(s) and works its way upwards. DP solves all the sub-problems, because it does it bottom-up. But in Memoization which solve only the needed sub-problems.\n",
    "\n",
    "3.To be more simple, **Memoization** uses the top-down approach to solve the problem i.e. it begin with core(main) problem then breaks it into sub-problems and solve these sub-problems similarly. In this approach **same sub-problem can occur multiple times (that case we use cache to avoid re-calculation)** and consume more CPU cycle, hence increase the time complexity. Whereas in **Dynamic programming same sub-problem will not be solved multiple times but the prior result will be used to optimize the solution**.\n",
    "https://stackoverflow.com/questions/6164629/dynamic-programming-and-memoization-bottom-up-vs-top-down-approaches"
   ]
  },
  {
   "cell_type": "code",
   "execution_count": 4,
   "metadata": {
    "collapsed": true
   },
   "outputs": [],
   "source": [
    "FIB_CACHE = {}\n",
    "\n",
    "def fibonacci_recursive_with_cache(n):\n",
    "    global fib_cache\n",
    "    if n == 0:\n",
    "        return 0\n",
    "    if n == 1:\n",
    "        return 1\n",
    "    \n",
    "    if n in FIB_CACHE:\n",
    "        return FIB_CACHE[n]\n",
    "    \n",
    "    print(\"n:\",n, \"-->\",n-1, \"-->\",n-2)\n",
    "    fib = fibonacci_recursive_with_cache(n-1) + fibonacci_recursive_with_cache(n-2)\n",
    "    \n",
    "    FIB_CACHE[n] = fib\n",
    "    print(\"Return Fib of\", n, \"is:\", fib)\n",
    "    return fib"
   ]
  },
  {
   "cell_type": "code",
   "execution_count": 9,
   "metadata": {},
   "outputs": [
    {
     "data": {
      "text/plain": [
       "55"
      ]
     },
     "execution_count": 9,
     "metadata": {},
     "output_type": "execute_result"
    }
   ],
   "source": [
    "#Uncomment the print statements and run it to see the performance\n",
    "fibonacci_recursive_with_cache(10)\n",
    "#fibonacci_recursive_with_cache(50)"
   ]
  },
  {
   "cell_type": "markdown",
   "metadata": {},
   "source": [
    "### 5) Fibonacci Sequence Dynamic Programming : Bottom-UP approach"
   ]
  },
  {
   "cell_type": "markdown",
   "metadata": {},
   "source": [
    "Simply saying Top Down approach uses recursion for calling Sub problems again and again\n",
    "where as Bottom Up approach use the single without calling any one and hence it is more efficient."
   ]
  },
  {
   "cell_type": "code",
   "execution_count": 15,
   "metadata": {},
   "outputs": [],
   "source": [
    "def fibonacci_dp(n):\n",
    "    fib_cache = {1:1, 2:1}\n",
    "    print(fib_cache)\n",
    "    for x in range(3,n+1):\n",
    "        fib_cache[x] = fib_cache[x-1] + fib_cache[x-2]\n",
    "        print(fib_cache)\n",
    "    return fib_cache[n]"
   ]
  },
  {
   "cell_type": "code",
   "execution_count": 16,
   "metadata": {},
   "outputs": [
    {
     "name": "stdout",
     "output_type": "stream",
     "text": [
      "{1: 1, 2: 1}\n",
      "{1: 1, 2: 1, 3: 2}\n",
      "{1: 1, 2: 1, 3: 2, 4: 3}\n",
      "{1: 1, 2: 1, 3: 2, 4: 3, 5: 5}\n",
      "{1: 1, 2: 1, 3: 2, 4: 3, 5: 5, 6: 8}\n",
      "{1: 1, 2: 1, 3: 2, 4: 3, 5: 5, 6: 8, 7: 13}\n",
      "{1: 1, 2: 1, 3: 2, 4: 3, 5: 5, 6: 8, 7: 13, 8: 21}\n",
      "{1: 1, 2: 1, 3: 2, 4: 3, 5: 5, 6: 8, 7: 13, 8: 21, 9: 34}\n",
      "{1: 1, 2: 1, 3: 2, 4: 3, 5: 5, 6: 8, 7: 13, 8: 21, 9: 34, 10: 55}\n"
     ]
    },
    {
     "data": {
      "text/plain": [
       "55"
      ]
     },
     "execution_count": 16,
     "metadata": {},
     "output_type": "execute_result"
    }
   ],
   "source": [
    "fibonacci_dp(10)"
   ]
  }
 ],
 "metadata": {
  "kernelspec": {
   "display_name": "Python 3",
   "language": "python",
   "name": "python3"
  },
  "language_info": {
   "codemirror_mode": {
    "name": "ipython",
    "version": 3
   },
   "file_extension": ".py",
   "mimetype": "text/x-python",
   "name": "python",
   "nbconvert_exporter": "python",
   "pygments_lexer": "ipython3",
   "version": "3.5.2"
  }
 },
 "nbformat": 4,
 "nbformat_minor": 2
}
