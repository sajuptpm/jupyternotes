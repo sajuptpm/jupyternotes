{
 "cells": [
  {
   "cell_type": "markdown",
   "metadata": {},
   "source": [
    "### Minimum Number of coins Required to change an Amount in Recursive Way"
   ]
  },
  {
   "cell_type": "markdown",
   "metadata": {},
   "source": [
    "##### Suppose:\n",
    "##### coins = [6,5,1]\n",
    "##### amount = 9\n",
    "\n",
    "##### a) One 6 coin + Minimum conis required for amount 9-6 = 3. We can represent it as: 1 + min_num_coins(3)\n",
    "##### b) One 5 coin + Minimum conis required for amount 9-5 = 4. We can represent it as: 1 + min_num_coins(4)\n",
    "##### c) One 1 coin + Minimum conis required for amount 9-1 = 8. We can represent it as: 1 + min_num_coins(8)\n",
    "##### d) Final result is Minimum of a,b,and c.\n",
    "##### e) Here amount passed to  \"min_num_coins\" will again go through steps a,b, and c. Because of that it will repeat min_num_coins calculation for some amount. For Example: \"min_num_coins(8)\" will do, one 5 coin + min_num_coins(8-5=3), here min_num_coins(3) we already calculated, but its repeating."
   ]
  },
  {
   "cell_type": "markdown",
   "metadata": {},
   "source": [
    "<img src=\"img/min_coins_recursive.jpeg\",width=500,height=200>"
   ]
  },
  {
   "cell_type": "markdown",
   "metadata": {},
   "source": [
    "##### a)Here For each amount passed to function \"min_coins_recursive\", It recursively find minimum number of coins required to change that amount.\n",
    "##### b)That is, for each \"amount - coin\" amount it recursively find minimum number of coins with that coin in the iteraion of \"for loop\", required to change that amount.\n",
    "##### c) Since there is a \"for loop\" in this function, for each amount passed to this function it check whether we can change that amount using coin in that iteration of \"for loop\" plus other combination of coins.\n",
    "##### d) At the end of this \"for loop\" we get minimum number of coins (from all coins) required to change the amount passed to that \"for loop\".\n",
    "##### e) At each iteration of \"for loop\" we find coin in that that iteration plus number of other coins required to change the amount pass to \"for loop\" . If \"num_coins\" is \"inf\", that means we can't change that amount using coin in that iteration plus combination of other coins.\n",
    "##### f) At the end of \"for loop\" we can find that using which coin plus other coins we can optimally change the amount passed to \"for loop\"."
   ]
  },
  {
   "cell_type": "code",
   "execution_count": null,
   "metadata": {
    "collapsed": true
   },
   "outputs": [],
   "source": [
    "#coins = [6,5,1]\n",
    "#coins = [3]\n",
    "##Try with 2 coins to understand the working\n",
    "coins = [4,5]\n",
    "amount = 9\n",
    "\n",
    "def min_coins_recursive(amount, coins):\n",
    "    #print(amount, coins)\n",
    "    min_num_coins = float(\"inf\")\n",
    "    if amount == 0:\n",
    "        print(\"**amount is 0, Return from func, Start Stack LIFO\\n\")\n",
    "        return 0\n",
    "    for coin in coins:\n",
    "        print(\"amount,coin\", amount, coin)\n",
    "        if amount >= coin:\n",
    "            num_coins = min_coins_recursive(amount - coin, coins)\n",
    "            #print(\"#num_coins : {} || amount,coin from stack : {},{}\".format(num_coins, amount, coin))\n",
    "            print(\"#num_coins required to change amount:{} using coin:{} is {}\".format(amount, coin, num_coins+1))\n",
    "            if num_coins + 1 < min_num_coins:\n",
    "                min_num_coins = num_coins + 1\n",
    "    print(\"##Return from func (End of for loop), min_num_coins (from all coins) required to change amount:{} is :{}, Start Stack LIFO\".format(amount, min_num_coins))\n",
    "    return min_num_coins\n",
    "\n",
    "min_coins_recursive(amount, coins)"
   ]
  },
  {
   "cell_type": "markdown",
   "metadata": {},
   "source": [
    "### Print Coins and Minimum Number of coins Required to change an Amount in Recursive Way"
   ]
  },
  {
   "cell_type": "code",
   "execution_count": null,
   "metadata": {
    "collapsed": true
   },
   "outputs": [],
   "source": [
    "#coins = [6,5,1]\n",
    "#coins = [3]\n",
    "coins = [4,5]\n",
    "amount = 9\n",
    "\n",
    "def min_coins_recursive1(amount, coins):\n",
    "    #print(amount, coins)\n",
    "    min_num_coins = float(\"inf\")\n",
    "    if amount == 0:\n",
    "        print(\"**amount is 0, Return from func, Start Stack LIFO\\n\")\n",
    "        return 0,[]\n",
    "    sel_coins = []\n",
    "    for coin in coins:\n",
    "        print(\"amount,coin\", amount, coin)\n",
    "        if amount >= coin:\n",
    "            num_coins, _sel_coins = min_coins_recursive1(amount - coin, coins)\n",
    "            #print(\"#num_coins : {} || amount,coin from stack : {},{}\".format(num_coins, amount, coin))\n",
    "            print(\"#num_coins required to change amount:{} using coin:{} is {}, comb of other coins:{}\".format(amount, coin, num_coins+1, _sel_coins))\n",
    "            if num_coins + 1 < min_num_coins:\n",
    "                min_num_coins = num_coins + 1\n",
    "                _sel_coins.append(coin)\n",
    "                sel_coins = _sel_coins\n",
    "    print(\"##Return from func (End of for loop), min_num_coins (from all coins) required to change amount:{} is :{}, Start Stack LIFO\".format(amount, min_num_coins))\n",
    "    return min_num_coins, sel_coins\n",
    "\n",
    "min_coins_recursive1(amount, coins)"
   ]
  },
  {
   "cell_type": "markdown",
   "metadata": {},
   "source": [
    "### Without comments"
   ]
  },
  {
   "cell_type": "code",
   "execution_count": null,
   "metadata": {},
   "outputs": [],
   "source": [
    "coins = [6,5,1]\n",
    "#coins = [3]\n",
    "#coins = [4,5]\n",
    "amount = 9\n",
    "\n",
    "def min_coins_recursive1(amount, coins):\n",
    "    #print(amount, coins)\n",
    "    min_num_coins = float(\"inf\")\n",
    "    if amount == 0:\n",
    "        #print(\"**amount is 0, Return from func, Start Stack LIFO\\n\")\n",
    "        return 0,[]\n",
    "    sel_coins = []\n",
    "    for coin in coins:\n",
    "        #print(\"amount,coin\", amount, coin)\n",
    "        if amount >= coin:\n",
    "            num_coins, _sel_coins = min_coins_recursive1(amount - coin, coins)\n",
    "            #print(\"#num_coins : {} || amount,coin from stack : {},{}\".format(num_coins, amount, coin))\n",
    "            #print(\"#num_coins required to change amount:{} using coin:{} is {}, comb of other coins:{}\".format(amount, coin, num_coins+1, _sel_coins))\n",
    "            if num_coins + 1 < min_num_coins:\n",
    "                min_num_coins = num_coins + 1\n",
    "                _sel_coins.append(coin)\n",
    "                sel_coins = _sel_coins\n",
    "    #print(\"##Return from func (End of for loop), min_num_coins (from all coins) required to change amount:{} is :{}, Start Stack LIFO\".format(amount, min_num_coins))\n",
    "    return min_num_coins, sel_coins\n",
    "\n",
    "min_coins_recursive1(amount, coins)"
   ]
  }
 ],
 "metadata": {
  "kernelspec": {
   "display_name": "Python 2",
   "language": "python",
   "name": "python2"
  },
  "language_info": {
   "codemirror_mode": {
    "name": "ipython",
    "version": 2
   },
   "file_extension": ".py",
   "mimetype": "text/x-python",
   "name": "python",
   "nbconvert_exporter": "python",
   "pygments_lexer": "ipython2",
   "version": "2.7.12"
  }
 },
 "nbformat": 4,
 "nbformat_minor": 2
}
