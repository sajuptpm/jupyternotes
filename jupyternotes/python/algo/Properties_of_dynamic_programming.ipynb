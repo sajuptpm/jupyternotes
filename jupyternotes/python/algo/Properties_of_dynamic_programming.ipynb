{
 "cells": [
  {
   "cell_type": "markdown",
   "metadata": {},
   "source": [
    "Following are the two main properties of a problem that suggest that the given problem can be solved using Dynamic programming:\n",
    "\n",
    "1) Overlapping Subproblems\n",
    "\n",
    "2) Optimal Substructure"
   ]
  },
  {
   "cell_type": "markdown",
   "metadata": {},
   "source": []
  },
  {
   "cell_type": "markdown",
   "metadata": {},
   "source": [
    "### 1) Overlapping Subproblems"
   ]
  },
  {
   "cell_type": "markdown",
   "metadata": {},
   "source": []
  },
  {
   "cell_type": "markdown",
   "metadata": {},
   "source": []
  },
  {
   "cell_type": "markdown",
   "metadata": {},
   "source": [
    "### 2) Optimal Substructure"
   ]
  },
  {
   "cell_type": "markdown",
   "metadata": {},
   "source": [
    "A given problems has Optimal Substructure Property if optimal solution of the given problem can be obtained by using optimal solutions of its subproblems.\n",
    "\n",
    "**Example:**\n",
    "\n",
    "In Fibonacci problem, We find fibonacci of 5 from Fibonacci of 4 and 3.\n",
    "\n",
    "That is F(5) = F(4) + F(3).\n",
    "\n",
    "That is F(k+1) = F(k) + F(k-1).\n",
    "\n",
    "Here we used lower values of \"k\" to solve higher value of \"k\".So we can **conclude that Optimal Substructure exist in this solution of fibonacci Problem.**\n",
    "\n",
    "**Links:**\n",
    "\n",
    "https://www.youtube.com/watch?v=_zE5z-KZGRw\n",
    "\n",
    "https://www.youtube.com/watch?v=rdI94aW6IWw\n",
    "\n",
    "\n"
   ]
  },
  {
   "cell_type": "markdown",
   "metadata": {},
   "source": [
    "**Optimal Substructure** property is used to determine the usefulness of **dynamic programming** and **greedy algorithms** for a problem.\n",
    "\n",
    "Typically, a **greedy** algorithm is used to solve a problem with optimal substructure if it can be proved by **induction** that this is optimal at each step. Otherwise, provided the problem exhibits **overlapping subproblems** as well, **dynamic programming** is used.\n",
    "\n",
    "In order to solve a dynamic optimization problem from some starting period **t** to some ending period **T**, one implicitly has to solve subproblems starting from later dates **s**, where **t < s < T**. This is an example of optimal substructure\n",
    "\n",
    "**Links:**\n",
    "\n",
    "https://en.wikipedia.org/wiki/Optimal_substructure\n"
   ]
  },
  {
   "cell_type": "markdown",
   "metadata": {},
   "source": [
    "### 3) Some Reference"
   ]
  },
  {
   "cell_type": "markdown",
   "metadata": {},
   "source": [
    "**Proof by Induction**\n",
    "\n",
    "Mathematical induction is a mathematical proof technique used to prove a given statement about any well-ordered set.\n",
    "\n",
    "https://www.youtube.com/watch?v=i9h9_-iTrwk\n",
    "\n",
    "https://en.wikipedia.org/wiki/Mathematical_induction\n",
    "\n",
    "http://www.cs.cornell.edu/courses/cs280/2005fa/induction.pdf"
   ]
  },
  {
   "cell_type": "markdown",
   "metadata": {},
   "source": [
    "**Proof by contradiction**\n",
    "\n",
    "https://en.wikipedia.org/wiki/Proof_by_contradiction\n",
    "\n",
    "https://www.youtube.com/watch?v=qZ736F8ljYU\n"
   ]
  },
  {
   "cell_type": "markdown",
   "metadata": {},
   "source": [
    "### 4) Dynamic Programming Tutorials"
   ]
  },
  {
   "cell_type": "markdown",
   "metadata": {},
   "source": [
    "\n",
    "https://www.youtube.com/playlist?list=PLyEvk8ZeQDMVbsg7CEfT0NV3s3GkMx1vN&spfreload=10\n",
    "\n",
    "https://www.youtube.com/watch?v=_zE5z-KZGRw&list=PLyEvk8ZeQDMVbsg7CEfT0NV3s3GkMx1vN&index=2&spfreload=10\n",
    "\n",
    "\n",
    "\n",
    "\n"
   ]
  },
  {
   "cell_type": "markdown",
   "metadata": {
    "collapsed": true
   },
   "source": [
    "### 5) Read"
   ]
  },
  {
   "cell_type": "markdown",
   "metadata": {},
   "source": [
    "\n",
    "Dynamic Programming\n",
    "https://medium.com/@ekeyur/dynamic-programming-f50e6d09f14c\n",
    "\n",
    "How to Solve Any Dynamic Programming Problem\n",
    "https://blog.pramp.com/how-to-solve-any-dynamic-programming-problem-603b6fbbd771\n",
    "\n",
    "How to Think in Dynamic Programming\n",
    "https://medium.com/@zsalloum/how-to-think-in-dynamic-programming-3f6804a79429\n",
    "\n",
    "How to Think in Dynamic Programming (part 2)\n",
    "https://medium.com/@zsalloum/how-to-think-in-dynamic-programming-part-2-6700befbae60\n",
    "    \n",
    "    "
   ]
  },
  {
   "cell_type": "code",
   "execution_count": null,
   "metadata": {
    "collapsed": true
   },
   "outputs": [],
   "source": []
  },
  {
   "cell_type": "markdown",
   "metadata": {},
   "source": [
    "### 6)"
   ]
  },
  {
   "cell_type": "code",
   "execution_count": null,
   "metadata": {
    "collapsed": true
   },
   "outputs": [],
   "source": []
  }
 ],
 "metadata": {
  "kernelspec": {
   "display_name": "Python 3",
   "language": "python",
   "name": "python3"
  },
  "language_info": {
   "codemirror_mode": {
    "name": "ipython",
    "version": 3
   },
   "file_extension": ".py",
   "mimetype": "text/x-python",
   "name": "python",
   "nbconvert_exporter": "python",
   "pygments_lexer": "ipython3",
   "version": "3.6.1"
  }
 },
 "nbformat": 4,
 "nbformat_minor": 2
}
