{
 "cells": [
  {
   "cell_type": "markdown",
   "metadata": {},
   "source": [
    "Suppose we have two strings X and Y.\n",
    "\n",
    "X of Length m.\n",
    "\n",
    "Y of Length n.\n",
    "\n",
    "The minimum edit distance between one character \"i\" in String \"X\" and one character \"j\" in String \"Y\" can be denoted as D(i,j).\n",
    "\n",
    "The minimum edit distance between complete characters in String \"X\" and \"Y\" can be denoted as D(m,n) or D(X,Y).\n"
   ]
  },
  {
   "cell_type": "markdown",
   "metadata": {},
   "source": [
    "Suppose Cost on all operation are\n",
    "Insert = 1\n",
    "Delete = 2\n",
    "Replace = 3\n",
    "\n",
    "a)\n",
    "Cost of converting nothing/empty character to a character is 1 (1 Insertion).\n",
    "Cost of converting nothing/empty character to 3 characters is 3 (3 Insertions).\n",
    "\n",
    "b)\n",
    "Cost of converting a character to nothing/empty character is 2 (1 Deletion).\n",
    "Cost of converting 3 character to nothing/empty character is 6 (3 Deletions).\n",
    "\n",
    "\n",
    "\n"
   ]
  },
  {
   "cell_type": "markdown",
   "metadata": {},
   "source": [
    "First we have to compute the min edit distance between two small substrings of String \"X\" and \"Y\".\n",
    "\n",
    "Suppose String \"X\" and \"Y\" contains only one charater.\n",
    "\n",
    "X = \"a\"\n",
    "\n",
    "Y = \"b\"\n",
    "\n",
    "Here we have to do all three (INSERT, DELETE, REPLACE) operations on the character of first string, recursively compute minimum cost for all three operations and take minimum of three values.\n",
    "\n",
    "Here \"ith\" character of String \"X\" is \"a\" and \"jth\" character of string \"Y\" is \"b\".\n",
    "\n",
    "So here,\n",
    "\n",
    "i = 1\n",
    "\n",
    "j = 1\n",
    "\n",
    "\n",
    "a) INSERT:\n",
    "-----------\n",
    "\n",
    "\n",
    "\n",
    "If \"ith\" character of string \"X\" is empty and \"jth\" character of string \"Y\" is not empty. Then we have to do Insert operation. That is we have to Insert \"jth\" character of string \"Y\" to \"X\".\n",
    "\n",
    "If first string is empty, the only option is to insert all characters of second string into first.Here we try to convert String \"X\" to \"Y\" at minimum cost.\n",
    "\n",
    "We can denote it like:\n",
    "D(0, j) = j ----> Insert \"j\".\n",
    "\n",
    "OR\n",
    "\n",
    "D(\"\", \"b\") = Insert \"b\"\n",
    "\n",
    "b) DELETE:\n",
    "-----------\n",
    "If \"ith\" character of string \"X\" is not empty and \"jth\" character of string \"Y\" empty. Then we have to do Delete operation. That is we have to delete \"ith\" character of string \"X\".\n",
    "\n",
    "If second string is empty, the only option is to remove all characters of first string.Here we try to convert String \"X\" to \"Y\" at minimum cost.\n",
    "\n",
    "We can denote it like:\n",
    "D(i, 0) = i ----> Delete \"i\".\n",
    "\n",
    "OR\n",
    "\n",
    "D(\"a\", \"\") = Delete \"a\"\n",
    "\n",
    "c) REPLACE:\n",
    "------------\n",
    "If \"ith\" character of string \"X\" and \"jth\" character of string \"Y\" is not empty, and these two charaters are not equal. Then we have to do Replace operation.\n",
    "\n",
    "d) NOTHING:\n",
    "------------\n",
    "If \"ith\" character of string \"X\" and \"jth\" character of string \"Y\" is not empty, and these two charaters are equal. Then we don't have to do anything.\n",
    "\n",
    "\n"
   ]
  },
  {
   "cell_type": "code",
   "execution_count": null,
   "metadata": {
    "collapsed": true
   },
   "outputs": [],
   "source": []
  },
  {
   "cell_type": "code",
   "execution_count": null,
   "metadata": {
    "collapsed": true
   },
   "outputs": [],
   "source": []
  }
 ],
 "metadata": {
  "kernelspec": {
   "display_name": "Python 3",
   "language": "python",
   "name": "python3"
  },
  "language_info": {
   "codemirror_mode": {
    "name": "ipython",
    "version": 3
   },
   "file_extension": ".py",
   "mimetype": "text/x-python",
   "name": "python",
   "nbconvert_exporter": "python",
   "pygments_lexer": "ipython3",
   "version": "3.5.2"
  }
 },
 "nbformat": 4,
 "nbformat_minor": 2
}
