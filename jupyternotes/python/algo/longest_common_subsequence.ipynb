{
 "cells": [
  {
   "cell_type": "markdown",
   "metadata": {},
   "source": [
    "### Longest Common Subsequence from two sequences"
   ]
  },
  {
   "cell_type": "markdown",
   "metadata": {},
   "source": [
    "The LCS problem has an **optimal substructure:** the problem can be broken down into smaller, simple \"subproblems\", which can be broken down into yet simpler subproblems, and so on, until, finally, the solution becomes trivial. The LCS problem also has **overlapping subproblems:** the solution to high-level subproblems often reuse lower level subproblems. Problems with these two properties **optimal substructure** and **overlapping subproblems** can be approached by a problem-solving technique called **dynamic programming**, in which subproblem solutions are memoized rather than computed over and over. The procedure requires **memoization** saving the solutions to one level of subproblem in a table (analogous to writing them to a memo, hence the name) so that the solutions are available to the next level of subproblems. "
   ]
  },
  {
   "cell_type": "markdown",
   "metadata": {},
   "source": [
    "Read \"Solution for two sequences\" in this wiki page. This explains, why we need to do LCS(m, n-1) and LCS(m-1, n)\n",
    "\n",
    "https://en.wikipedia.org/wiki/Longest_common_subsequence_problem"
   ]
  },
  {
   "cell_type": "markdown",
   "metadata": {},
   "source": [
    "#### Must read\n",
    "\n",
    "More clear explanation for recursive nad DP solution.\n",
    "This explains, why we need to do LCS(m, n-1) and LCS(m-1, n)\n",
    "\n",
    "https://www.ics.uci.edu/~eppstein/161/960229.html"
   ]
  },
  {
   "cell_type": "markdown",
   "metadata": {},
   "source": [
    "http://www.techiedelight.com/longest-common-subsequence/"
   ]
  },
  {
   "cell_type": "markdown",
   "metadata": {},
   "source": [
    "### Recursive"
   ]
  },
  {
   "cell_type": "markdown",
   "metadata": {},
   "source": [
    "**A**\n",
    "\n",
    "a) If the two strings start with the same letter, it's always safe to choose that starting letter as the first character of the subsequence. \n",
    "\n",
    "b) On the other hand, suppose that, like the example above, the two first characters differ. Then it is not possible for both of them to be part of a common subsequence - one or the other (or maybe both) will have to be removed.\n",
    "\n",
    "c) Finally, observe that once we've decided what to do with the first characters of the strings, the remaining subproblem is again a longest common subsequence problem, on two shorter strings. Therefore we can solve it recursively."
   ]
  },
  {
   "cell_type": "markdown",
   "metadata": {},
   "source": [
    "**B**\n",
    "\n",
    "The LCS problem has an optimal substructure. That means the problem can be broken down into smaller, simple “subproblems”, which can be broken down into yet simpler subproblems, and so on, until, finally, the solution becomes trivial.\n",
    " \n",
    "\n",
    "**1. Let us consider two sequences X and Y of length m and n that both end in the same element.**\n",
    "\n",
    "To find their LCS, shorten each sequence by removing the last element, find the LCS of the shortened sequences, and to that LCS append the removed element. So we can say that\n",
    "\n",
    "LCS(X[1..m], Y[1..n]) = LCS(X[1..m-1], Y[1..n-1]) + X[m]   if X[m] = Y[n]\n",
    "\n",
    " \n",
    "**2. Now suppose that the two sequences do not end in the same symbol.**\n",
    "\n",
    "Then the LCS of X and Y is the longer of the two sequences LCS(X[1..m-1], Y[1..n]) and LCS(X[1..m], Y[1..n-1]). To understand this property, let’s consider the two following sequences\n",
    "\n",
    "X: ABCBDAB (n elements)\n",
    "\n",
    "Y: BDCABA  (m elements)\n",
    " \n",
    "\n",
    "The LCS of these two sequences either ends with a B (the last element of sequence X) or does not.\n",
    "\n",
    "Case 1: If LCS ends with a B, then it cannot end with a A and we can remove the A from sequence Y and the problem reduces to LCS(X[1..m], Y[1..n-1]).\n",
    "\n",
    "Case 2: If LCS does not end with a B, then we can remove B from the sequence X and the problem reduces to LCS(X[1..m-1], Y[1..n])."
   ]
  },
  {
   "cell_type": "code",
   "execution_count": null,
   "metadata": {
    "collapsed": true
   },
   "outputs": [],
   "source": []
  }
 ],
 "metadata": {
  "kernelspec": {
   "display_name": "Python 3",
   "language": "python",
   "name": "python3"
  },
  "language_info": {
   "codemirror_mode": {
    "name": "ipython",
    "version": 3
   },
   "file_extension": ".py",
   "mimetype": "text/x-python",
   "name": "python",
   "nbconvert_exporter": "python",
   "pygments_lexer": "ipython3",
   "version": "3.5.2"
  }
 },
 "nbformat": 4,
 "nbformat_minor": 2
}
