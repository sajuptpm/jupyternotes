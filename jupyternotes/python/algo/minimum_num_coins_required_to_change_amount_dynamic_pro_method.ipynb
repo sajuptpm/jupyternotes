{
 "cells": [
  {
   "cell_type": "markdown",
   "metadata": {},
   "source": [
    "#### Find minimum number of coins required to change an amount using Dynamic Programming"
   ]
  },
  {
   "cell_type": "markdown",
   "metadata": {},
   "source": [
    "Dynamic Programming is an algorithmic paradigm that solves a given complex problem by breaking it into subproblems and stores the results of subproblems to avoid computing the same results again.\n",
    "\n",
    "Note: Here we divide amount and find minimum number of coins required for each amount and store it in a table."
   ]
  },
  {
   "cell_type": "code",
   "execution_count": null,
   "metadata": {
    "collapsed": true
   },
   "outputs": [],
   "source": [
    "coins = [6,5,1]\n",
    "amount = 9"
   ]
  },
  {
   "cell_type": "code",
   "execution_count": null,
   "metadata": {},
   "outputs": [],
   "source": [
    "def min_num_coins():\n",
    "    #Create a table to save minimum number of coins required for from amount 1 to upto total \"amount\".\n",
    "    mem_table = [float(\"inf\") for x in range(amount + 1)]\n",
    "    mem_table[0] = 0\n",
    "    print(\"mem_table:\", mem_table)\n",
    "\n",
    "    #Here, We find minimum number of coins required for from amount 1 to upto total \"amount\".\n",
    "    #Note, We start from low amount to total amount.\n",
    "    for amt in range(1, amount + 1):\n",
    "        for coin in coins:\n",
    "            #We need this check to avoid negative indexing when doing mem_table lookup.\n",
    "            if amt >= coin:\n",
    "                #Get minimum number of coins required for lower amount (\"amt - coin\") which we already find and stored.\n",
    "                min_num_coin_from_mem_table = mem_table[amt - coin]\n",
    "                #\"inf\" for an amount in mem_table indicate that we have not calculated minimum number \n",
    "                #of coins required for that amount OR we can't change that amount using the given coins.\n",
    "            \n",
    "                if min_num_coin_from_mem_table != float(\"inf\"):\n",
    "                    #At this point number of coins required to change amount is \"min_num_coin_from_mem_table + 1\".\n",
    "                    if min_num_coin_from_mem_table + 1 < mem_table[amt]:\n",
    "                        #We update \"mem_table[amt]\" only if number of required coins which we newly find is less than\n",
    "                        #stored number of required coins for the same amount in mem_table.\n",
    "                        #Because, here we trying to find minimum number of coins required to change an amount.\n",
    "                        #For each amount there will be multiple ways to change it using different number of coins, \n",
    "                        #but here we need minimum number of coins required.\n",
    "                        mem_table[amt] = min_num_coin_from_mem_table + 1\n",
    "                        print(\"mem_table update for amount:{}, {}\".format(amt, mem_table))\n",
    "                else:\n",
    "                    #Try with coins = [6,5,3] to find  this print\n",
    "                    print(\"Could not find min num of coins required for amount:{} in mem_table:{}\".format(amt, mem_table))\n",
    "\n",
    "    return mem_table[amount]\n",
    "        \n"
   ]
  },
  {
   "cell_type": "code",
   "execution_count": null,
   "metadata": {},
   "outputs": [],
   "source": [
    "min_num_coins()"
   ]
  }
 ],
 "metadata": {
  "kernelspec": {
   "display_name": "Python 3",
   "language": "python",
   "name": "python3"
  },
  "language_info": {
   "codemirror_mode": {
    "name": "ipython",
    "version": 3
   },
   "file_extension": ".py",
   "mimetype": "text/x-python",
   "name": "python",
   "nbconvert_exporter": "python",
   "pygments_lexer": "ipython3",
   "version": "3.5.2"
  }
 },
 "nbformat": 4,
 "nbformat_minor": 2
}
