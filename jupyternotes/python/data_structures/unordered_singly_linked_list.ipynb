{
 "cells": [
  {
   "cell_type": "code",
   "execution_count": null,
   "metadata": {
    "collapsed": true
   },
   "outputs": [],
   "source": [
    "#Unordered List: Single Linked Lists\n",
    "\n",
    "#*The insert methods attach a new node at one end or the other without regard to the rest of the list.\n",
    "#*Here data in the list may be in any order.\n",
    "\n",
    "#http://interactivepython.org/runestone/static/pythonds/BasicDS/ImplementinganUnorderedListLinkedLists.html\n"
   ]
  },
  {
   "cell_type": "code",
   "execution_count": null,
   "metadata": {
    "collapsed": true
   },
   "outputs": [],
   "source": [
    "class Node:\n",
    "\n",
    "  def __init__(self, data, next_node=None):\n",
    "    self.data = data\n",
    "    self.next_node = next_node\n",
    "\n",
    "  def get_data(self):\n",
    "    return self.data\n",
    "\n",
    "  def get_next_node(self):\n",
    "    return self.next_node\n",
    "\n",
    "  def set_next_node(self, node):\n",
    "    self.next_node = node\n"
   ]
  },
  {
   "cell_type": "code",
   "execution_count": null,
   "metadata": {
    "collapsed": true
   },
   "outputs": [],
   "source": [
    "class LinkedList:\n",
    "\n",
    "  def __init__(self, node=None):\n",
    "    self.head = node\n",
    "\n",
    "  def insert_node(self,data):\n",
    "    \"\"\"\n",
    "      O(1)\n",
    "    \"\"\"\n",
    "    #When insert/add new node, set current \"head\" node as next_node of new node and new node as head node.\n",
    "    #That way we can go to other nodes from head node.\n",
    "    node = Node(data)\n",
    "    node.set_next_node(self.head)\n",
    "    self.head = node\n",
    "\n",
    "  def size(self):\n",
    "    \"\"\"\n",
    "      O(n)\n",
    "    \"\"\"\n",
    "    count = 0\n",
    "    current = self.head\n",
    "    while current:\n",
    "      count += 1\n",
    "      current = current.get_next_node()\n",
    "    return count\n",
    "\n",
    "  def search(self, data):\n",
    "    \"\"\"\n",
    "      traverse the nodes one at a time until we either find the item we are looking for or run out of nodes.\n",
    "      O(n) worst case.\n",
    "    \"\"\"\n",
    "    current = self.head\n",
    "    while current:\n",
    "      if current.get_data() == data:\n",
    "        return True\n",
    "      current = current.get_next_node()\n",
    "    return False\n",
    "\n",
    "  def remove(self, data):\n",
    "    \"\"\"\n",
    "     O(n) worst case.\n",
    "    \"\"\"\n",
    "    current = self.head\n",
    "    previous = None\n",
    "    found = None\n",
    "\n",
    "    while not found:\n",
    "      if current.get_data() == data:\n",
    "        #Find node which we want to remove\n",
    "        found = True\n",
    "      else:\n",
    "        previous = current\n",
    "        current = current.get_next_node()\n",
    "\n",
    "    if found:\n",
    "      #At this point, variable current contains the node which we want to remove\n",
    "      if previous:\n",
    "        previous.set_next_node(current.get_next_node())\n",
    "      else:\n",
    "       self.head = self.head.get_next_node()\n",
    "\n",
    "  def is_empty(self):\n",
    "      \"\"\"\n",
    "        O(1)\n",
    "      \"\"\"\n",
    "      return self.head == None\n"
   ]
  },
  {
   "cell_type": "code",
   "execution_count": null,
   "metadata": {
    "collapsed": true
   },
   "outputs": [],
   "source": [
    "l1 = LinkedList()\n",
    "l1.insert_node(2)\n",
    "l1.insert_node(3)\n",
    "l1.insert_node(4)\n",
    "l1.insert_node(5)\n",
    "l1.insert_node(6)\n"
   ]
  },
  {
   "cell_type": "code",
   "execution_count": null,
   "metadata": {},
   "outputs": [],
   "source": [
    "print \"Size of LinkedList is\", l1.size()"
   ]
  },
  {
   "cell_type": "code",
   "execution_count": null,
   "metadata": {},
   "outputs": [],
   "source": [
    "print \"Search 4\", l1.search(4)"
   ]
  },
  {
   "cell_type": "code",
   "execution_count": null,
   "metadata": {},
   "outputs": [],
   "source": [
    "print \"Remove 4\"\n",
    "l1.remove(4)"
   ]
  },
  {
   "cell_type": "code",
   "execution_count": null,
   "metadata": {},
   "outputs": [],
   "source": [
    "print \"Search 4\", l1.search(4)"
   ]
  },
  {
   "cell_type": "code",
   "execution_count": null,
   "metadata": {},
   "outputs": [],
   "source": [
    "print \"Remove 6\"\n",
    "l1.remove(6)"
   ]
  },
  {
   "cell_type": "code",
   "execution_count": null,
   "metadata": {},
   "outputs": [],
   "source": [
    "print \"Search 6\", l1.search(6)"
   ]
  },
  {
   "cell_type": "code",
   "execution_count": null,
   "metadata": {
    "collapsed": true
   },
   "outputs": [],
   "source": [
    "#Create New empty linked list\n",
    "l2 = LinkedList()"
   ]
  },
  {
   "cell_type": "code",
   "execution_count": null,
   "metadata": {},
   "outputs": [],
   "source": [
    "print \"is empty\", l2.is_empty()"
   ]
  },
  {
   "cell_type": "code",
   "execution_count": null,
   "metadata": {
    "collapsed": true
   },
   "outputs": [],
   "source": [
    "#Add node to linked list\n",
    "l2.insert_node(4)"
   ]
  },
  {
   "cell_type": "code",
   "execution_count": null,
   "metadata": {},
   "outputs": [],
   "source": [
    "print \"is empty\", l2.is_empty()"
   ]
  },
  {
   "cell_type": "code",
   "execution_count": null,
   "metadata": {
    "collapsed": true
   },
   "outputs": [],
   "source": []
  }
 ],
 "metadata": {
  "kernelspec": {
   "display_name": "Python 2",
   "language": "python",
   "name": "python2"
  },
  "language_info": {
   "codemirror_mode": {
    "name": "ipython",
    "version": 2
   },
   "file_extension": ".py",
   "mimetype": "text/x-python",
   "name": "python",
   "nbconvert_exporter": "python",
   "pygments_lexer": "ipython2",
   "version": "2.7.12"
  }
 },
 "nbformat": 4,
 "nbformat_minor": 2
}
