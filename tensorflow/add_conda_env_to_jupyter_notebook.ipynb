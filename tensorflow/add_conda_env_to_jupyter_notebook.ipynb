{
 "cells": [
  {
   "cell_type": "markdown",
   "metadata": {},
   "source": [
    "## Add Python Anaconda environment to Jupyter Notebook "
   ]
  },
  {
   "cell_type": "markdown",
   "metadata": {},
   "source": [
    "### 1) Download Anaconda\n",
    "\n",
    "https://www.continuum.io/downloads\n"
   ]
  },
  {
   "cell_type": "markdown",
   "metadata": {},
   "source": [
    "### 2) Install Anaconda\n",
    "\n",
    "$ bash Anaconda3-4.3.1-Linux-x86_64.sh "
   ]
  },
  {
   "cell_type": "markdown",
   "metadata": {},
   "source": [
    "### 3) Create a conda environment\n",
    "\n",
    "$ conda create -n tensorflowenv\n"
   ]
  },
  {
   "cell_type": "markdown",
   "metadata": {},
   "source": [
    "### 4) Activate the conda environment\n",
    "\n",
    "$ source activate tensorflowenv\n"
   ]
  },
  {
   "cell_type": "markdown",
   "metadata": {},
   "source": [
    "### 5) Install Tensorflow\n",
    "\n",
    "$conda install -c conda-forge tensorflow\n"
   ]
  },
  {
   "cell_type": "markdown",
   "metadata": {},
   "source": [
    "### 6) Add python and ipykernel in the virtual environment to jupyter notebook\n",
    "\n",
    "$ pip install ipykernel\n",
    "\n",
    "$python -m ipykernel install --user --name=myenv1"
   ]
  },
  {
   "cell_type": "markdown",
   "metadata": {},
   "source": [
    "### 7) List kernelspec\n",
    "\n",
    "$ jupyter kernelspec list"
   ]
  }
 ],
 "metadata": {
  "kernelspec": {
   "display_name": "Python 3",
   "language": "python",
   "name": "python3"
  },
  "language_info": {
   "codemirror_mode": {
    "name": "ipython",
    "version": 3
   },
   "file_extension": ".py",
   "mimetype": "text/x-python",
   "name": "python",
   "nbconvert_exporter": "python",
   "pygments_lexer": "ipython3",
   "version": "3.5.2"
  }
 },
 "nbformat": 4,
 "nbformat_minor": 2
}
